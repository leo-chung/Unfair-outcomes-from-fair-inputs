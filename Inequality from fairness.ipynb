{
 "cells": [
  {
   "cell_type": "markdown",
   "id": "67f97a29",
   "metadata": {},
   "source": [
    "## Inequality from fariness"
   ]
  },
  {
   "cell_type": "markdown",
   "id": "19afb9ed",
   "metadata": {},
   "source": [
    "Fairness, equity, and objectivity are all traits that communities strive to achieve - and rightly so. But it is surprising how even the most level of playing fields can quickly give rise to vastly different outcomes across individuals.\n",
    "\n",
    "We can use an illustrative, albeit simplistic, example to demonstrate this principle. Let's say 100 people are playing a game. In this game, each person is given 100 coins and in every round of the game, each player is matched with another random player. When these two players commence the game, the players both flip their coins. If one player gets head and the other gets tail, the player who tossed the head takes both coins. Else, each player just keeps his or her coin and waits for the next round.\n",
    "\n",
    "This sounds like a pretty fair and reasonable game - the probability that a player in a pair will gain or lose a coin is 50%. The history of past coin flips nor the player's current coin stack has any impact on the game being played right now.\n",
    "\n",
    "So if this game were played 100 times, 1000 times, or even 10000 times, what would the distribution of coin stacks look like? Would they just fluctuate around the 100 coin mark?"
   ]
  },
  {
   "cell_type": "markdown",
   "id": "16256aed",
   "metadata": {},
   "source": [
    "First, let's create a player. He or she starts with 100 coins, and the player can play with another player. When this player does play, he or she tosses a coin (0 - Tails, 1 - Heads), and depending on the outcome of the tosses, each player's coin stack is updated."
   ]
  },
  {
   "cell_type": "code",
   "execution_count": 209,
   "id": "296ab742",
   "metadata": {},
   "outputs": [],
   "source": [
    "import random\n",
    "random.seed(100)\n",
    "\n",
    "class player:\n",
    "    def __init__(self, coins):\n",
    "        self.coins = coins\n",
    "        \n",
    "    def toss(self):\n",
    "        return(random.randint(0, 1))\n",
    "    \n",
    "    def play(self, another_player):\n",
    "        player_toss = self.toss()\n",
    "        another_player_toss = another_player.toss()\n",
    "        \n",
    "        if player_toss > another_player_toss:\n",
    "            self.coins += 1\n",
    "            another_player.coins -= 1\n",
    "        \n",
    "        if player_toss < another_player_toss:\n",
    "            self.coins -= 1\n",
    "            another_player.coins += 1"
   ]
  },
  {
   "cell_type": "markdown",
   "id": "db29e188",
   "metadata": {},
   "source": [
    "Next, let's define a game. Each game starts with some number of players and each time they play a round, that game's round number goes up. Since we have already defined a round, we can simply run a round until the round number reaches our desired threshold.\n",
    "\n",
    "Finally, we can add a method that creates a histogram of the players' coin stacks."
   ]
  },
  {
   "cell_type": "code",
   "execution_count": 210,
   "id": "3594e5f6",
   "metadata": {},
   "outputs": [],
   "source": [
    "import matplotlib.pyplot as plt\n",
    "\n",
    "class game:\n",
    "    def __init__(self):\n",
    "        self.round_number = 0\n",
    "        \n",
    "    def play_round(self, player_list):\n",
    "        \n",
    "        round_pair = []\n",
    "        player_ind = list(range(len(player_list)))\n",
    "        random.shuffle(player_ind)\n",
    "        \n",
    "        for ind_1,ind_2 in zip(player_ind[::2], player_ind[1::2]):\n",
    "            round_pair.append([player_list[ind_1],player_list[ind_2]])\n",
    "        \n",
    "        for pair in round_pair:\n",
    "            player_1 = pair[0]\n",
    "            player_2 = pair[1]\n",
    "            \n",
    "            player_1.play(player_2)\n",
    "        \n",
    "        self.round_number += 1\n",
    "    \n",
    "    def play_until(self, thres, player_list):\n",
    "        \n",
    "        while self.round_number != thres:\n",
    "            self.play_round(player_list)\n",
    "    \n",
    "    def plot(self, player_list):\n",
    "        \n",
    "        unsorted_stacks = []\n",
    "        for player in player_list:\n",
    "            unsorted_stacks.append(player.coins)\n",
    "        \n",
    "        sorted_stacks = sorted(unsorted_stacks)\n",
    "        \n",
    "        plt.figure(self.round_number)\n",
    "        plt.hist(sorted_stacks)\n",
    "        plt.xlabel('Player Coin Stack')\n",
    "        plt.ylabel('Count')"
   ]
  },
  {
   "cell_type": "markdown",
   "id": "ccb93122",
   "metadata": {},
   "source": [
    "So we can finally simulate a game with 100 players playing 100 rounds."
   ]
  },
  {
   "cell_type": "code",
   "execution_count": 211,
   "id": "9c745208",
   "metadata": {},
   "outputs": [
    {
     "data": {
      "image/png": "[encoded data removed]",
      "text/plain": [
       "<Figure size 432x288 with 1 Axes>"
      ]
     },
     "metadata": {
      "needs_background": "light"
     },
     "output_type": "display_data"
    }
   ],
   "source": [
    "def simulate(players,rounds):\n",
    "    sim_players = [player(100) for _ in range(players)]\n",
    "    \n",
    "    sim_game = game()\n",
    "    sim_game.play_until(rounds, sim_players)\n",
    "    sim_game.plot(sim_players)\n",
    "\n",
    "simulate(100,100)"
   ]
  },
  {
   "cell_type": "markdown",
   "id": "844d6bba",
   "metadata": {},
   "source": [
    "After 100 rounds, seems like most players are indeed around 100 coins deep. For how long can this be the case?\n",
    "\n",
    "We can try to answer this question by simulating 1000 rounds and 10000 rounds."
   ]
  },
  {
   "cell_type": "code",
   "execution_count": 212,
   "id": "c44baa4f",
   "metadata": {},
   "outputs": [
    {
     "data": {
      "image/png": "[encoded data removed]",
      "text/plain": [
       "<Figure size 432x288 with 1 Axes>"
      ]
     },
     "metadata": {
      "needs_background": "light"
     },
     "output_type": "display_data"
    },
    {
     "data": {
      "image/png": "[encoded data removed]",
      "text/plain": [
       "<Figure size 432x288 with 1 Axes>"
      ]
     },
     "metadata": {
      "needs_background": "light"
     },
     "output_type": "display_data"
    }
   ],
   "source": [
    "simulate(100,1000)\n",
    "simulate(100,10000)"
   ]
  },
  {
   "cell_type": "markdown",
   "id": "4f04fe7c",
   "metadata": {},
   "source": [
    "In the 10000 rounds case, we have already observed negative coin stacks. Let's revisit the game class' play_round method so that we don't play anymore as soon as any player reaches 0 coins. We can also modify the play_until method and the simulate function as well so that we can keep track of when the game had its first player with no coins."
   ]
  },
  {
   "cell_type": "code",
   "execution_count": 213,
   "id": "ae8a1a9f",
   "metadata": {},
   "outputs": [],
   "source": [
    "class game:\n",
    "    def __init__(self):\n",
    "        self.round_number = 0\n",
    "        \n",
    "    def play_round(self, player_list):\n",
    "        \n",
    "        ###\n",
    "        coin_stacks = set()\n",
    "        for player in player_list:\n",
    "            coin_stacks.add(player.coins)\n",
    "        \n",
    "        if 0 in coin_stacks:\n",
    "            return self.round_number\n",
    "        ###\n",
    "        \n",
    "        round_pair = []\n",
    "        player_ind = list(range(len(player_list)))\n",
    "        random.shuffle(player_ind)\n",
    "        \n",
    "        for ind_1,ind_2 in zip(player_ind[::2], player_ind[1::2]):\n",
    "            round_pair.append([player_list[ind_1],player_list[ind_2]])\n",
    "        \n",
    "        for pair in round_pair:\n",
    "            player_1 = pair[0]\n",
    "            player_2 = pair[1]\n",
    "            \n",
    "            player_1.play(player_2)\n",
    "        \n",
    "        self.round_number += 1\n",
    "    \n",
    "    def play_until(self, thres, player_list):\n",
    "        \n",
    "        ###\n",
    "        while self.round_number != thres:\n",
    "            check = self.play_round(player_list)\n",
    "            if check != None:\n",
    "                return check\n",
    "        ###\n",
    "    \n",
    "    def plot(self, player_list):\n",
    "        \n",
    "        unsorted_stacks = []\n",
    "        for player in player_list:\n",
    "            unsorted_stacks.append(player.coins)\n",
    "        \n",
    "        sorted_stacks = sorted(unsorted_stacks)\n",
    "        \n",
    "        plt.figure(self.round_number)\n",
    "        plt.hist(sorted_stacks)\n",
    "        plt.xlabel('Player Coin Stack')\n",
    "        plt.ylabel('Count')\n",
    "\n",
    "def simulate(players,rounds):\n",
    "    sim_players = [player(100) for _ in range(players)]\n",
    "    \n",
    "    sim_game = game()\n",
    "    first_zero = sim_game.play_until(rounds, sim_players)\n",
    "    sim_game.plot(sim_players)\n",
    "    print(first_zero)"
   ]
  },
  {
   "cell_type": "code",
   "execution_count": 214,
   "id": "5adadadf",
   "metadata": {},
   "outputs": [
    {
     "name": "stdout",
     "output_type": "stream",
     "text": [
      "4043\n"
     ]
    },
    {
     "data": {
      "image/png": "[encoded data removed]",
      "text/plain": [
       "<Figure size 432x288 with 1 Axes>"
      ]
     },
     "metadata": {
      "needs_background": "light"
     },
     "output_type": "display_data"
    }
   ],
   "source": [
    "simulate(100,10000)"
   ]
  },
  {
   "cell_type": "markdown",
   "id": "6dd18603",
   "metadata": {},
   "source": [
    "So by round 4043, we already had at least one player go bust. A natural extension from this observation is how many rounds on average are required for at least one player to bust. We can add a new method to the game class and define a new function simulate_busts to answer this question."
   ]
  },
  {
   "cell_type": "code",
   "execution_count": 215,
   "id": "8800dfb0",
   "metadata": {},
   "outputs": [],
   "source": [
    "class game:\n",
    "    def __init__(self):\n",
    "        self.round_number = 0\n",
    "        \n",
    "    def play_round(self, player_list):\n",
    "\n",
    "        coin_stacks = set()\n",
    "        for player in player_list:\n",
    "            coin_stacks.add(player.coins)\n",
    "        \n",
    "        if 0 in coin_stacks:\n",
    "            return self.round_number\n",
    "\n",
    "        round_pair = []\n",
    "        player_ind = list(range(len(player_list)))\n",
    "        random.shuffle(player_ind)\n",
    "        \n",
    "        for ind_1,ind_2 in zip(player_ind[::2], player_ind[1::2]):\n",
    "            round_pair.append([player_list[ind_1],player_list[ind_2]])\n",
    "        \n",
    "        for pair in round_pair:\n",
    "            player_1 = pair[0]\n",
    "            player_2 = pair[1]\n",
    "            \n",
    "            player_1.play(player_2)\n",
    "        \n",
    "        self.round_number += 1\n",
    "    \n",
    "    def play_until(self, thres, player_list):\n",
    "\n",
    "        while self.round_number != thres:\n",
    "            check = self.play_round(player_list)\n",
    "            if check != None:\n",
    "                return check\n",
    "\n",
    "    def plot(self, player_list):\n",
    "        \n",
    "        unsorted_stacks = []\n",
    "        for player in player_list:\n",
    "            unsorted_stacks.append(player.coins)\n",
    "        \n",
    "        sorted_stacks = sorted(unsorted_stacks)\n",
    "        \n",
    "        plt.figure(self.round_number)\n",
    "        plt.hist(sorted_stacks)\n",
    "        plt.xlabel('Player Coin Stack')\n",
    "        plt.ylabel('Count')\n",
    "        \n",
    "    def play_until_bust(self, player_list, max_round = 1000000):\n",
    "        \n",
    "        at_round = None\n",
    "        while at_round == None:\n",
    "            at_round = self.play_round(player_list)\n",
    "            if self.round_number == max_round:\n",
    "                return\n",
    "        \n",
    "        return at_round\n",
    "\n",
    "def simulate_busts(no_of_players, no_of_busts):\n",
    "    \n",
    "    busts = []\n",
    "    \n",
    "    while len(busts) != no_of_busts:\n",
    "        sim_players = [player(100) for _ in range(no_of_players)]\n",
    "\n",
    "        sim_game = game()\n",
    "        first_zero = sim_game.play_until_bust(sim_players)\n",
    "        busts.append(first_zero)\n",
    "\n",
    "    plt.hist(busts)\n",
    "    plt.xlabel('Rounds until first bust')\n",
    "    plt.ylabel('Count')"
   ]
  },
  {
   "cell_type": "markdown",
   "id": "7fcd5a62",
   "metadata": {},
   "source": [
    "We add a max_round constraint so that we don't endlessly iterate through rounds (however unlikely that may be). So selecting100 players, we can simulate 1000 games and record at what round at least one player goes bust."
   ]
  },
  {
   "cell_type": "code",
   "execution_count": 216,
   "id": "bdcea8ed",
   "metadata": {},
   "outputs": [
    {
     "data": {
      "image/png": "[encoded data removed]",
      "text/plain": [
       "<Figure size 432x288 with 1 Axes>"
      ]
     },
     "metadata": {
      "needs_background": "light"
     },
     "output_type": "display_data"
    }
   ],
   "source": [
    "simulate_busts(100, 1000)"
   ]
  },
  {
   "cell_type": "markdown",
   "id": "76d69a51",
   "metadata": {},
   "source": [
    "Interestingly, even with as few as 1000 rounds, someone can go bust. If each round is 1 day, that means in one iteration, in a little under 3 years, a player participating in what seems to be a \"fair\" game went bust. Of course \"fair\" in this context simply refers to the independence between each coin toss - the outcome can hardly be described as so. This exercise goes to show that even if the playing field is level, outcomes can become bifurcated quite quickly. While enforcing equality of outcome is not an absolute solution either, being cognizant of the fact that equality of opportunity oftentimes is insufficient could be an interesting thought to ponder and explore."
   ]
  }
 ],
 "metadata": {
  "kernelspec": {
   "display_name": "Python 3",
   "language": "python",
   "name": "python3"
  },
  "language_info": {
   "codemirror_mode": {
    "name": "ipython",
    "version": 3
   },
   "file_extension": ".py",
   "mimetype": "text/x-python",
   "name": "python",
   "nbconvert_exporter": "python",
   "pygments_lexer": "ipython3",
   "version": "3.8.5"
  }
 },
 "nbformat": 4,
 "nbformat_minor": 5
}
